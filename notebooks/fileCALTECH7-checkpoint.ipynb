{
 "cells": [
  {
   "cell_type": "code",
   "execution_count": 1,
   "id": "ee7acf94-6e40-43d8-92f9-69ab20038f96",
   "metadata": {},
   "outputs": [
    {
     "name": "stdout",
     "output_type": "stream",
     "text": [
      "Files have been successfully copied and renamed.\n"
     ]
    }
   ],
   "source": [
    "import os\n",
    "import shutil\n",
    "\n",
    "# Source and target directory paths\n",
    "src_dir = r\"C:\\Users\\Asus\\Desktop\\COIL\\archive (1)\\caltech-07\\Faces\"\n",
    "target_dir = r\"C:\\Users\\Asus\\Desktop\\COIL\\archive (1)\\CAL7\"\n",
    "\n",
    "# Ensure the target directory exists, if not, create it\n",
    "if not os.path.exists(target_dir):\n",
    "    os.makedirs(target_dir)\n",
    "\n",
    "# Loop through each file in the source directory\n",
    "for file_name in os.listdir(src_dir):\n",
    "    # Construct full file path\n",
    "    src_file_path = os.path.join(src_dir, file_name)\n",
    "    \n",
    "    # Ensure we are working with files only\n",
    "    if os.path.isfile(src_file_path):\n",
    "        # Add the word 'Faces' to the beginning of each file's name\n",
    "        new_file_name = \"Faces\" + file_name\n",
    "        \n",
    "        # Construct the target file path with the modified name\n",
    "        target_file_path = os.path.join(target_dir, new_file_name)\n",
    "        \n",
    "        # Copy the file from source to target with the new name\n",
    "        shutil.copy(src_file_path, target_file_path)\n",
    "\n",
    "print(\"Files have been successfully copied and renamed.\")\n"
   ]
  },
  {
   "cell_type": "code",
   "execution_count": 3,
   "id": "66b414cd-784e-48f0-8299-f249fb1f11c1",
   "metadata": {},
   "outputs": [
    {
     "name": "stdout",
     "output_type": "stream",
     "text": [
      "Files have been successfully copied and renamed.\n"
     ]
    }
   ],
   "source": [
    "import os\n",
    "import shutil\n",
    "\n",
    "# Source and target directory paths\n",
    "src_dir = r\"C:\\Users\\Asus\\Desktop\\COIL\\archive (1)\\caltech-07\\dollar_bill\"\n",
    "target_dir = r\"C:\\Users\\Asus\\Desktop\\COIL\\archive (1)\\CAL7\"\n",
    "\n",
    "# Ensure the target directory exists, if not, create it\n",
    "if not os.path.exists(target_dir):\n",
    "    os.makedirs(target_dir)\n",
    "\n",
    "# Loop through each file in the source directory\n",
    "for file_name in os.listdir(src_dir):\n",
    "    # Construct full file path\n",
    "    src_file_path = os.path.join(src_dir, file_name)\n",
    "    \n",
    "    # Ensure we are working with files only\n",
    "    if os.path.isfile(src_file_path):\n",
    "        # Add the prefix 'dollar_bill_' to the beginning of each file's name\n",
    "        new_file_name = \"dollar_bill_\" + file_name\n",
    "        \n",
    "        # Construct the target file path with the modified name\n",
    "        target_file_path = os.path.join(target_dir, new_file_name)\n",
    "        \n",
    "        # Copy the file from source to target with the new name\n",
    "        shutil.copy(src_file_path, target_file_path)\n",
    "\n",
    "print(\"Files have been successfully copied and renamed.\")\n"
   ]
  },
  {
   "cell_type": "code",
   "execution_count": 7,
   "id": "fec7321b-36a5-4cef-8b38-11c45c987d31",
   "metadata": {},
   "outputs": [
    {
     "name": "stdout",
     "output_type": "stream",
     "text": [
      "Files have been successfully copied and renamed.\n"
     ]
    }
   ],
   "source": [
    "import os\n",
    "import shutil\n",
    "\n",
    "# Source and target directory paths\n",
    "src_dir =r\"C:\\Users\\Asus\\Desktop\\COIL\\archive (1)\\caltech-07\\garfield\"\n",
    "target_dir = r\"C:\\Users\\Asus\\Desktop\\COIL\\archive (1)\\CAL7\"\n",
    "\n",
    "# Ensure the target directory exists, if not, create it\n",
    "if not os.path.exists(target_dir):\n",
    "    os.makedirs(target_dir)\n",
    "\n",
    "# Loop through each file in the source directory\n",
    "for file_name in os.listdir(src_dir):\n",
    "    # Construct full file path\n",
    "    src_file_path = os.path.join(src_dir, file_name)\n",
    "    \n",
    "    # Ensure we are working with files only\n",
    "    if os.path.isfile(src_file_path):\n",
    "        # Add the prefix 'dollar_bill_' to the beginning of each file's name\n",
    "        new_file_name = \"garfield_\" + file_name\n",
    "        \n",
    "        # Construct the target file path with the modified name\n",
    "        target_file_path = os.path.join(target_dir, new_file_name)\n",
    "        \n",
    "        # Copy the file from source to target with the new name\n",
    "        shutil.copy(src_file_path, target_file_path)\n",
    "\n",
    "print(\"Files have been successfully copied and renamed.\")\n"
   ]
  },
  {
   "cell_type": "code",
   "execution_count": 9,
   "id": "192c7f4b-a5e6-4b6d-9213-a432667c7b62",
   "metadata": {},
   "outputs": [
    {
     "name": "stdout",
     "output_type": "stream",
     "text": [
      "Files have been successfully copied and renamed.\n"
     ]
    }
   ],
   "source": [
    "import os\n",
    "import shutil\n",
    "\n",
    "# Source and target directory paths\n",
    "src_dir =r\"C:\\Users\\Asus\\Desktop\\COIL\\archive (1)\\caltech-07\\Motorbikes\"\n",
    "target_dir = r\"C:\\Users\\Asus\\Desktop\\COIL\\archive (1)\\CAL7\"\n",
    "\n",
    "# Ensure the target directory exists, if not, create it\n",
    "if not os.path.exists(target_dir):\n",
    "    os.makedirs(target_dir)\n",
    "\n",
    "# Loop through each file in the source directory\n",
    "for file_name in os.listdir(src_dir):\n",
    "    # Construct full file path\n",
    "    src_file_path = os.path.join(src_dir, file_name)\n",
    "    \n",
    "    # Ensure we are working with files only\n",
    "    if os.path.isfile(src_file_path):\n",
    "        # Add the prefix 'dollar_bill_' to the beginning of each file's name\n",
    "        new_file_name = \"Motorbikes_\" + file_name\n",
    "        \n",
    "        # Construct the target file path with the modified name\n",
    "        target_file_path = os.path.join(target_dir, new_file_name)\n",
    "        \n",
    "        # Copy the file from source to target with the new name\n",
    "        shutil.copy(src_file_path, target_file_path)\n",
    "\n",
    "print(\"Files have been successfully copied and renamed.\")\n"
   ]
  },
  {
   "cell_type": "code",
   "execution_count": 11,
   "id": "9826bbd7-9783-4ecd-b12c-11b7f0bdb5f6",
   "metadata": {},
   "outputs": [
    {
     "name": "stdout",
     "output_type": "stream",
     "text": [
      "Files have been successfully copied and renamed.\n"
     ]
    }
   ],
   "source": [
    "import os\n",
    "import shutil\n",
    "\n",
    "# Source and target directory paths\n",
    "src_dir =r\"C:\\Users\\Asus\\Desktop\\COIL\\archive (1)\\caltech-07\\snoopy\"\n",
    "target_dir = r\"C:\\Users\\Asus\\Desktop\\COIL\\archive (1)\\CAL7\"\n",
    "\n",
    "# Ensure the target directory exists, if not, create it\n",
    "if not os.path.exists(target_dir):\n",
    "    os.makedirs(target_dir)\n",
    "\n",
    "# Loop through each file in the source directory\n",
    "for file_name in os.listdir(src_dir):\n",
    "    # Construct full file path\n",
    "    src_file_path = os.path.join(src_dir, file_name)\n",
    "    \n",
    "    # Ensure we are working with files only\n",
    "    if os.path.isfile(src_file_path):\n",
    "        # Add the prefix 'dollar_bill_' to the beginning of each file's name\n",
    "        new_file_name = \"snoopy_\" + file_name\n",
    "        \n",
    "        # Construct the target file path with the modified name\n",
    "        target_file_path = os.path.join(target_dir, new_file_name)\n",
    "        \n",
    "        # Copy the file from source to target with the new name\n",
    "        shutil.copy(src_file_path, target_file_path)\n",
    "\n",
    "print(\"Files have been successfully copied and renamed.\")\n"
   ]
  },
  {
   "cell_type": "code",
   "execution_count": 13,
   "id": "8db70bd8-2987-4b5c-a07b-4c299a7fb2c4",
   "metadata": {},
   "outputs": [
    {
     "name": "stdout",
     "output_type": "stream",
     "text": [
      "Files have been successfully copied and renamed.\n"
     ]
    }
   ],
   "source": [
    "import os\n",
    "import shutil\n",
    "\n",
    "# Source and target directory paths\n",
    "src_dir =r\"C:\\Users\\Asus\\Desktop\\COIL\\archive (1)\\caltech-07\\stop_sign\"\n",
    "target_dir = r\"C:\\Users\\Asus\\Desktop\\COIL\\archive (1)\\CAL7\"\n",
    "\n",
    "# Ensure the target directory exists, if not, create it\n",
    "if not os.path.exists(target_dir):\n",
    "    os.makedirs(target_dir)\n",
    "\n",
    "# Loop through each file in the source directory\n",
    "for file_name in os.listdir(src_dir):\n",
    "    # Construct full file path\n",
    "    src_file_path = os.path.join(src_dir, file_name)\n",
    "    \n",
    "    # Ensure we are working with files only\n",
    "    if os.path.isfile(src_file_path):\n",
    "        # Add the prefix 'dollar_bill_' to the beginning of each file's name\n",
    "        new_file_name = \"stop_sign\" + file_name\n",
    "        \n",
    "        # Construct the target file path with the modified name\n",
    "        target_file_path = os.path.join(target_dir, new_file_name)\n",
    "        \n",
    "        # Copy the file from source to target with the new name\n",
    "        shutil.copy(src_file_path, target_file_path)\n",
    "\n",
    "print(\"Files have been successfully copied and renamed.\")\n"
   ]
  },
  {
   "cell_type": "code",
   "execution_count": 15,
   "id": "f3245a25-70ed-47f6-9989-aa6b5aec6925",
   "metadata": {},
   "outputs": [
    {
     "name": "stdout",
     "output_type": "stream",
     "text": [
      "Files have been successfully copied and renamed.\n"
     ]
    }
   ],
   "source": [
    "import os\n",
    "import shutil\n",
    "\n",
    "# Source and target directory paths\n",
    "src_dir =r\"C:\\Users\\Asus\\Desktop\\COIL\\archive (1)\\caltech-07\\windsor_chair\"\n",
    "target_dir = r\"C:\\Users\\Asus\\Desktop\\COIL\\archive (1)\\CAL7\"\n",
    "\n",
    "# Ensure the target directory exists, if not, create it\n",
    "if not os.path.exists(target_dir):\n",
    "    os.makedirs(target_dir)\n",
    "\n",
    "# Loop through each file in the source directory\n",
    "for file_name in os.listdir(src_dir):\n",
    "    # Construct full file path\n",
    "    src_file_path = os.path.join(src_dir, file_name)\n",
    "    \n",
    "    # Ensure we are working with files only\n",
    "    if os.path.isfile(src_file_path):\n",
    "        # Add the prefix 'dollar_bill_' to the beginning of each file's name\n",
    "        new_file_name = \"windsor_chair_\" + file_name\n",
    "        \n",
    "        # Construct the target file path with the modified name\n",
    "        target_file_path = os.path.join(target_dir, new_file_name)\n",
    "        \n",
    "        # Copy the file from source to target with the new name\n",
    "        shutil.copy(src_file_path, target_file_path)\n",
    "\n",
    "print(\"Files have been successfully copied and renamed.\")\n"
   ]
  },
  {
   "cell_type": "code",
   "execution_count": null,
   "id": "859a1213-13c3-4efb-8695-5a551c599037",
   "metadata": {},
   "outputs": [],
   "source": []
  }
 ],
 "metadata": {
  "kernelspec": {
   "display_name": "Python 3 (ipykernel)",
   "language": "python",
   "name": "python3"
  },
  "language_info": {
   "codemirror_mode": {
    "name": "ipython",
    "version": 3
   },
   "file_extension": ".py",
   "mimetype": "text/x-python",
   "name": "python",
   "nbconvert_exporter": "python",
   "pygments_lexer": "ipython3",
   "version": "3.11.9"
  }
 },
 "nbformat": 4,
 "nbformat_minor": 5
}
